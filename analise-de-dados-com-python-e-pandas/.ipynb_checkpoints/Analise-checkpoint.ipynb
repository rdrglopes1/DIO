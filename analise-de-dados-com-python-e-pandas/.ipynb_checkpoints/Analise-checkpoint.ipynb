{
 "cells": [
  {
   "cell_type": "code",
   "execution_count": 1,
   "id": "9529d3b6",
   "metadata": {},
   "outputs": [],
   "source": [
    "import pandas as pd\n",
    "import glob"
   ]
  },
  {
   "cell_type": "code",
   "execution_count": 2,
   "id": "adaae739",
   "metadata": {},
   "outputs": [],
   "source": [
    "filename = glob.glob('2021 - RJ/INMET_SE_RJ_*_01-01-2021_A_31-08-2021.CSV')"
   ]
  },
  {
   "cell_type": "code",
   "execution_count": 3,
   "id": "a33820de",
   "metadata": {},
   "outputs": [],
   "source": [
    "merged_df = pd.DataFrame()"
   ]
  },
  {
   "cell_type": "code",
   "execution_count": 4,
   "id": "c8ce0834",
   "metadata": {},
   "outputs": [],
   "source": [
    "for i in filename:\n",
    "    saidaStr = str(i)\n",
    "    lsaida = i.split('-')\n",
    "    snm = lsaida[2].strip()\n",
    "    nm = snm[:-3]\n",
    "    \n",
    "    df = pd.read_csv(i, sep=';', decimal=',', thousands='.')\n",
    "    df['ESTACAO'] = nm\n",
    "    merged_df = merged_df.append(df)"
   ]
  },
  {
   "cell_type": "code",
   "execution_count": 5,
   "id": "4753e119",
   "metadata": {},
   "outputs": [],
   "source": [
    "df_filtered = merged_df[['Data', 'Hora UTC', 'TEMPERATURA M?XIMA NA HORA ANT. (AUT) (?C)', 'TEMPERATURA M?NIMA NA HORA ANT. (AUT) (?C)', 'ESTACAO']]"
   ]
  },
  {
   "cell_type": "code",
   "execution_count": 6,
   "id": "5c5ad45a",
   "metadata": {},
   "outputs": [],
   "source": [
    "df_filtered = df_filtered.rename(columns={'TEMPERATURA M?XIMA NA HORA ANT. (AUT) (?C)':'TEMPERATURA MAXIMA', 'TEMPERATURA M?NIMA NA HORA ANT. (AUT) (?C)':'TEMPERATURA MINIMA'})"
   ]
  },
  {
   "cell_type": "code",
   "execution_count": 7,
   "id": "e96da3b2",
   "metadata": {},
   "outputs": [
    {
     "data": {
      "text/html": [
       "<div>\n",
       "<style scoped>\n",
       "    .dataframe tbody tr th:only-of-type {\n",
       "        vertical-align: middle;\n",
       "    }\n",
       "\n",
       "    .dataframe tbody tr th {\n",
       "        vertical-align: top;\n",
       "    }\n",
       "\n",
       "    .dataframe thead th {\n",
       "        text-align: right;\n",
       "    }\n",
       "</style>\n",
       "<table border=\"1\" class=\"dataframe\">\n",
       "  <thead>\n",
       "    <tr style=\"text-align: right;\">\n",
       "      <th></th>\n",
       "      <th>Data</th>\n",
       "      <th>Hora UTC</th>\n",
       "      <th>TEMPERATURA MAXIMA</th>\n",
       "      <th>TEMPERATURA MINIMA</th>\n",
       "      <th>ESTACAO</th>\n",
       "    </tr>\n",
       "  </thead>\n",
       "  <tbody>\n",
       "    <tr>\n",
       "      <th>0</th>\n",
       "      <td>01/01/2021</td>\n",
       "      <td>0000 UTC</td>\n",
       "      <td>24.9</td>\n",
       "      <td>24.5</td>\n",
       "      <td>MARAMBAIA</td>\n",
       "    </tr>\n",
       "    <tr>\n",
       "      <th>1</th>\n",
       "      <td>01/01/2021</td>\n",
       "      <td>0100 UTC</td>\n",
       "      <td>25.0</td>\n",
       "      <td>24.4</td>\n",
       "      <td>MARAMBAIA</td>\n",
       "    </tr>\n",
       "    <tr>\n",
       "      <th>2</th>\n",
       "      <td>01/01/2021</td>\n",
       "      <td>0200 UTC</td>\n",
       "      <td>24.4</td>\n",
       "      <td>23.8</td>\n",
       "      <td>MARAMBAIA</td>\n",
       "    </tr>\n",
       "    <tr>\n",
       "      <th>3</th>\n",
       "      <td>01/01/2021</td>\n",
       "      <td>0300 UTC</td>\n",
       "      <td>24.0</td>\n",
       "      <td>23.4</td>\n",
       "      <td>MARAMBAIA</td>\n",
       "    </tr>\n",
       "    <tr>\n",
       "      <th>4</th>\n",
       "      <td>01/01/2021</td>\n",
       "      <td>0400 UTC</td>\n",
       "      <td>23.4</td>\n",
       "      <td>22.9</td>\n",
       "      <td>MARAMBAIA</td>\n",
       "    </tr>\n",
       "  </tbody>\n",
       "</table>\n",
       "</div>"
      ],
      "text/plain": [
       "         Data  Hora UTC  TEMPERATURA MAXIMA  TEMPERATURA MINIMA    ESTACAO\n",
       "0  01/01/2021  0000 UTC                24.9                24.5  MARAMBAIA\n",
       "1  01/01/2021  0100 UTC                25.0                24.4  MARAMBAIA\n",
       "2  01/01/2021  0200 UTC                24.4                23.8  MARAMBAIA\n",
       "3  01/01/2021  0300 UTC                24.0                23.4  MARAMBAIA\n",
       "4  01/01/2021  0400 UTC                23.4                22.9  MARAMBAIA"
      ]
     },
     "execution_count": 7,
     "metadata": {},
     "output_type": "execute_result"
    }
   ],
   "source": [
    "df_filtered.head()"
   ]
  },
  {
   "cell_type": "code",
   "execution_count": 8,
   "id": "e742e375",
   "metadata": {},
   "outputs": [
    {
     "data": {
      "text/html": [
       "<div>\n",
       "<style scoped>\n",
       "    .dataframe tbody tr th:only-of-type {\n",
       "        vertical-align: middle;\n",
       "    }\n",
       "\n",
       "    .dataframe tbody tr th {\n",
       "        vertical-align: top;\n",
       "    }\n",
       "\n",
       "    .dataframe thead th {\n",
       "        text-align: right;\n",
       "    }\n",
       "</style>\n",
       "<table border=\"1\" class=\"dataframe\">\n",
       "  <thead>\n",
       "    <tr style=\"text-align: right;\">\n",
       "      <th></th>\n",
       "      <th>Data</th>\n",
       "      <th>Hora UTC</th>\n",
       "      <th>TEMPERATURA MAXIMA</th>\n",
       "      <th>TEMPERATURA MINIMA</th>\n",
       "      <th>ESTACAO</th>\n",
       "    </tr>\n",
       "  </thead>\n",
       "  <tbody>\n",
       "    <tr>\n",
       "      <th>5827</th>\n",
       "      <td>31/08/2021</td>\n",
       "      <td>1900 UTC</td>\n",
       "      <td>20.2</td>\n",
       "      <td>19.6</td>\n",
       "      <td>FORTE DE COPACABANA</td>\n",
       "    </tr>\n",
       "    <tr>\n",
       "      <th>5828</th>\n",
       "      <td>31/08/2021</td>\n",
       "      <td>2000 UTC</td>\n",
       "      <td>20.2</td>\n",
       "      <td>19.8</td>\n",
       "      <td>FORTE DE COPACABANA</td>\n",
       "    </tr>\n",
       "    <tr>\n",
       "      <th>5829</th>\n",
       "      <td>31/08/2021</td>\n",
       "      <td>2100 UTC</td>\n",
       "      <td>20.4</td>\n",
       "      <td>20.0</td>\n",
       "      <td>FORTE DE COPACABANA</td>\n",
       "    </tr>\n",
       "    <tr>\n",
       "      <th>5830</th>\n",
       "      <td>31/08/2021</td>\n",
       "      <td>2200 UTC</td>\n",
       "      <td>20.2</td>\n",
       "      <td>19.7</td>\n",
       "      <td>FORTE DE COPACABANA</td>\n",
       "    </tr>\n",
       "    <tr>\n",
       "      <th>5831</th>\n",
       "      <td>31/08/2021</td>\n",
       "      <td>2300 UTC</td>\n",
       "      <td>20.1</td>\n",
       "      <td>19.0</td>\n",
       "      <td>FORTE DE COPACABANA</td>\n",
       "    </tr>\n",
       "  </tbody>\n",
       "</table>\n",
       "</div>"
      ],
      "text/plain": [
       "            Data  Hora UTC  TEMPERATURA MAXIMA  TEMPERATURA MINIMA  \\\n",
       "5827  31/08/2021  1900 UTC                20.2                19.6   \n",
       "5828  31/08/2021  2000 UTC                20.2                19.8   \n",
       "5829  31/08/2021  2100 UTC                20.4                20.0   \n",
       "5830  31/08/2021  2200 UTC                20.2                19.7   \n",
       "5831  31/08/2021  2300 UTC                20.1                19.0   \n",
       "\n",
       "                  ESTACAO  \n",
       "5827  FORTE DE COPACABANA  \n",
       "5828  FORTE DE COPACABANA  \n",
       "5829  FORTE DE COPACABANA  \n",
       "5830  FORTE DE COPACABANA  \n",
       "5831  FORTE DE COPACABANA  "
      ]
     },
     "execution_count": 8,
     "metadata": {},
     "output_type": "execute_result"
    }
   ],
   "source": [
    "df_filtered.tail()"
   ]
  },
  {
   "cell_type": "code",
   "execution_count": 9,
   "id": "07e6090e",
   "metadata": {},
   "outputs": [
    {
     "data": {
      "text/plain": [
       "Data                   object\n",
       "Hora UTC               object\n",
       "TEMPERATURA MAXIMA    float64\n",
       "TEMPERATURA MINIMA    float64\n",
       "ESTACAO                object\n",
       "dtype: object"
      ]
     },
     "execution_count": 9,
     "metadata": {},
     "output_type": "execute_result"
    }
   ],
   "source": [
    "df_filtered.dtypes"
   ]
  },
  {
   "cell_type": "code",
   "execution_count": 10,
   "id": "58eff4b6",
   "metadata": {},
   "outputs": [
    {
     "data": {
      "text/plain": [
       "Data                   0\n",
       "Hora UTC               0\n",
       "TEMPERATURA MAXIMA    37\n",
       "TEMPERATURA MINIMA    37\n",
       "ESTACAO                0\n",
       "dtype: int64"
      ]
     },
     "execution_count": 10,
     "metadata": {},
     "output_type": "execute_result"
    }
   ],
   "source": [
    "df_filtered.isnull().sum()"
   ]
  },
  {
   "cell_type": "code",
   "execution_count": 11,
   "id": "d0f998f6",
   "metadata": {},
   "outputs": [],
   "source": [
    "df_filtered['TEMPERATURA MAXIMA'].fillna(df_filtered['TEMPERATURA MAXIMA'].mean(), inplace=True)"
   ]
  },
  {
   "cell_type": "code",
   "execution_count": 12,
   "id": "7cadabd7",
   "metadata": {},
   "outputs": [],
   "source": [
    "df_filtered['TEMPERATURA MINIMA'].fillna(df_filtered['TEMPERATURA MINIMA'].mean(), inplace=True)"
   ]
  },
  {
   "cell_type": "code",
   "execution_count": 13,
   "id": "13741dcb",
   "metadata": {
    "scrolled": false
   },
   "outputs": [
    {
     "data": {
      "text/html": [
       "<div>\n",
       "<style scoped>\n",
       "    .dataframe tbody tr th:only-of-type {\n",
       "        vertical-align: middle;\n",
       "    }\n",
       "\n",
       "    .dataframe tbody tr th {\n",
       "        vertical-align: top;\n",
       "    }\n",
       "\n",
       "    .dataframe thead th {\n",
       "        text-align: right;\n",
       "    }\n",
       "</style>\n",
       "<table border=\"1\" class=\"dataframe\">\n",
       "  <thead>\n",
       "    <tr style=\"text-align: right;\">\n",
       "      <th></th>\n",
       "      <th>Data</th>\n",
       "      <th>Hora UTC</th>\n",
       "      <th>TEMPERATURA MAXIMA</th>\n",
       "      <th>TEMPERATURA MINIMA</th>\n",
       "      <th>ESTACAO</th>\n",
       "    </tr>\n",
       "  </thead>\n",
       "  <tbody>\n",
       "    <tr>\n",
       "      <th>2568</th>\n",
       "      <td>18/04/2021</td>\n",
       "      <td>0000 UTC</td>\n",
       "      <td>21.3</td>\n",
       "      <td>20.5</td>\n",
       "      <td>JACAREPAGUA</td>\n",
       "    </tr>\n",
       "    <tr>\n",
       "      <th>5162</th>\n",
       "      <td>04/08/2021</td>\n",
       "      <td>0200 UTC</td>\n",
       "      <td>19.2</td>\n",
       "      <td>18.8</td>\n",
       "      <td>FORTE DE COPACABANA</td>\n",
       "    </tr>\n",
       "    <tr>\n",
       "      <th>3467</th>\n",
       "      <td>25/05/2021</td>\n",
       "      <td>1100 UTC</td>\n",
       "      <td>21.1</td>\n",
       "      <td>19.8</td>\n",
       "      <td>FORTE DE COPACABANA</td>\n",
       "    </tr>\n",
       "    <tr>\n",
       "      <th>5616</th>\n",
       "      <td>23/08/2021</td>\n",
       "      <td>0000 UTC</td>\n",
       "      <td>25.3</td>\n",
       "      <td>22.6</td>\n",
       "      <td>FORTE DE COPACABANA</td>\n",
       "    </tr>\n",
       "    <tr>\n",
       "      <th>1637</th>\n",
       "      <td>10/03/2021</td>\n",
       "      <td>0500 UTC</td>\n",
       "      <td>22.2</td>\n",
       "      <td>21.7</td>\n",
       "      <td>JACAREPAGUA</td>\n",
       "    </tr>\n",
       "    <tr>\n",
       "      <th>4205</th>\n",
       "      <td>25/06/2021</td>\n",
       "      <td>0500 UTC</td>\n",
       "      <td>15.9</td>\n",
       "      <td>15.1</td>\n",
       "      <td>VILA MILITAR</td>\n",
       "    </tr>\n",
       "    <tr>\n",
       "      <th>2745</th>\n",
       "      <td>25/04/2021</td>\n",
       "      <td>0900 UTC</td>\n",
       "      <td>18.9</td>\n",
       "      <td>18.2</td>\n",
       "      <td>JACAREPAGUA</td>\n",
       "    </tr>\n",
       "    <tr>\n",
       "      <th>3863</th>\n",
       "      <td>10/06/2021</td>\n",
       "      <td>2300 UTC</td>\n",
       "      <td>24.1</td>\n",
       "      <td>23.3</td>\n",
       "      <td>VILA MILITAR</td>\n",
       "    </tr>\n",
       "    <tr>\n",
       "      <th>2818</th>\n",
       "      <td>28/04/2021</td>\n",
       "      <td>1000 UTC</td>\n",
       "      <td>19.7</td>\n",
       "      <td>19.3</td>\n",
       "      <td>JACAREPAGUA</td>\n",
       "    </tr>\n",
       "    <tr>\n",
       "      <th>5751</th>\n",
       "      <td>28/08/2021</td>\n",
       "      <td>1500 UTC</td>\n",
       "      <td>24.9</td>\n",
       "      <td>23.8</td>\n",
       "      <td>JACAREPAGUA</td>\n",
       "    </tr>\n",
       "  </tbody>\n",
       "</table>\n",
       "</div>"
      ],
      "text/plain": [
       "            Data  Hora UTC  TEMPERATURA MAXIMA  TEMPERATURA MINIMA  \\\n",
       "2568  18/04/2021  0000 UTC                21.3                20.5   \n",
       "5162  04/08/2021  0200 UTC                19.2                18.8   \n",
       "3467  25/05/2021  1100 UTC                21.1                19.8   \n",
       "5616  23/08/2021  0000 UTC                25.3                22.6   \n",
       "1637  10/03/2021  0500 UTC                22.2                21.7   \n",
       "4205  25/06/2021  0500 UTC                15.9                15.1   \n",
       "2745  25/04/2021  0900 UTC                18.9                18.2   \n",
       "3863  10/06/2021  2300 UTC                24.1                23.3   \n",
       "2818  28/04/2021  1000 UTC                19.7                19.3   \n",
       "5751  28/08/2021  1500 UTC                24.9                23.8   \n",
       "\n",
       "                  ESTACAO  \n",
       "2568          JACAREPAGUA  \n",
       "5162  FORTE DE COPACABANA  \n",
       "3467  FORTE DE COPACABANA  \n",
       "5616  FORTE DE COPACABANA  \n",
       "1637          JACAREPAGUA  \n",
       "4205         VILA MILITAR  \n",
       "2745          JACAREPAGUA  \n",
       "3863         VILA MILITAR  \n",
       "2818          JACAREPAGUA  \n",
       "5751          JACAREPAGUA  "
      ]
     },
     "execution_count": 13,
     "metadata": {},
     "output_type": "execute_result"
    }
   ],
   "source": [
    "df_filtered.sample(10)"
   ]
  },
  {
   "cell_type": "markdown",
   "id": "b2d7bd23",
   "metadata": {},
   "source": [
    "#### MAXIMA TEMPERATURA REGISTRADA NO ANO"
   ]
  },
  {
   "cell_type": "code",
   "execution_count": 14,
   "id": "a24bb4f5",
   "metadata": {},
   "outputs": [
    {
     "data": {
      "text/plain": [
       "40.2"
      ]
     },
     "execution_count": 14,
     "metadata": {},
     "output_type": "execute_result"
    }
   ],
   "source": [
    "df_filtered['TEMPERATURA MAXIMA'].max()"
   ]
  },
  {
   "cell_type": "markdown",
   "id": "37e1b500",
   "metadata": {},
   "source": [
    "#### MÍNIMA TEMPERATURA REGISTRADA NO ANO"
   ]
  },
  {
   "cell_type": "code",
   "execution_count": 15,
   "id": "d8435ff9",
   "metadata": {},
   "outputs": [
    {
     "data": {
      "text/plain": [
       "8.4"
      ]
     },
     "execution_count": 15,
     "metadata": {},
     "output_type": "execute_result"
    }
   ],
   "source": [
    "df_filtered['TEMPERATURA MINIMA'].min()"
   ]
  },
  {
   "cell_type": "markdown",
   "id": "db6531c7",
   "metadata": {},
   "source": [
    "#### MÉDIA DE TEMPERATURA MAXIMA POR ESTAÇÕES"
   ]
  },
  {
   "cell_type": "code",
   "execution_count": 16,
   "id": "669db8f2",
   "metadata": {
    "scrolled": false
   },
   "outputs": [
    {
     "data": {
      "text/plain": [
       "ESTACAO\n",
       "FORTE DE COPACABANA    24.007214\n",
       "JACAREPAGUA            23.182094\n",
       "MARAMBAIA              23.749648\n",
       "VILA MILITAR           24.115597\n",
       "Name: TEMPERATURA MAXIMA, dtype: float64"
      ]
     },
     "execution_count": 16,
     "metadata": {},
     "output_type": "execute_result"
    }
   ],
   "source": [
    "df_filtered.groupby('ESTACAO')['TEMPERATURA MAXIMA'].mean()"
   ]
  },
  {
   "cell_type": "markdown",
   "id": "ef3d28e5",
   "metadata": {},
   "source": [
    "#### MÉDIA DE TEMPERATURA MÍNIMA POR ESTAÇÕES"
   ]
  },
  {
   "cell_type": "code",
   "execution_count": 17,
   "id": "818b9ff8",
   "metadata": {},
   "outputs": [
    {
     "data": {
      "text/plain": [
       "ESTACAO\n",
       "FORTE DE COPACABANA    22.997805\n",
       "JACAREPAGUA            21.909162\n",
       "MARAMBAIA              22.574398\n",
       "VILA MILITAR           22.798726\n",
       "Name: TEMPERATURA MINIMA, dtype: float64"
      ]
     },
     "execution_count": 17,
     "metadata": {},
     "output_type": "execute_result"
    }
   ],
   "source": [
    "df_filtered.groupby('ESTACAO')['TEMPERATURA MINIMA'].mean()"
   ]
  },
  {
   "cell_type": "code",
   "execution_count": 18,
   "id": "606726b4",
   "metadata": {},
   "outputs": [
    {
     "data": {
      "text/html": [
       "<div>\n",
       "<style scoped>\n",
       "    .dataframe tbody tr th:only-of-type {\n",
       "        vertical-align: middle;\n",
       "    }\n",
       "\n",
       "    .dataframe tbody tr th {\n",
       "        vertical-align: top;\n",
       "    }\n",
       "\n",
       "    .dataframe thead th {\n",
       "        text-align: right;\n",
       "    }\n",
       "</style>\n",
       "<table border=\"1\" class=\"dataframe\">\n",
       "  <thead>\n",
       "    <tr style=\"text-align: right;\">\n",
       "      <th></th>\n",
       "      <th>Data</th>\n",
       "      <th>Hora UTC</th>\n",
       "      <th>TEMPERATURA MAXIMA</th>\n",
       "      <th>TEMPERATURA MINIMA</th>\n",
       "      <th>ESTACAO</th>\n",
       "    </tr>\n",
       "  </thead>\n",
       "  <tbody>\n",
       "    <tr>\n",
       "      <th>714</th>\n",
       "      <td>30/01/2021</td>\n",
       "      <td>1800 UTC</td>\n",
       "      <td>40.2</td>\n",
       "      <td>37.0</td>\n",
       "      <td>VILA MILITAR</td>\n",
       "    </tr>\n",
       "    <tr>\n",
       "      <th>713</th>\n",
       "      <td>30/01/2021</td>\n",
       "      <td>1700 UTC</td>\n",
       "      <td>40.0</td>\n",
       "      <td>37.6</td>\n",
       "      <td>VILA MILITAR</td>\n",
       "    </tr>\n",
       "    <tr>\n",
       "      <th>688</th>\n",
       "      <td>29/01/2021</td>\n",
       "      <td>1600 UTC</td>\n",
       "      <td>40.0</td>\n",
       "      <td>32.7</td>\n",
       "      <td>MARAMBAIA</td>\n",
       "    </tr>\n",
       "    <tr>\n",
       "      <th>833</th>\n",
       "      <td>04/02/2021</td>\n",
       "      <td>1700 UTC</td>\n",
       "      <td>39.8</td>\n",
       "      <td>37.9</td>\n",
       "      <td>JACAREPAGUA</td>\n",
       "    </tr>\n",
       "    <tr>\n",
       "      <th>712</th>\n",
       "      <td>30/01/2021</td>\n",
       "      <td>1600 UTC</td>\n",
       "      <td>39.7</td>\n",
       "      <td>32.5</td>\n",
       "      <td>MARAMBAIA</td>\n",
       "    </tr>\n",
       "    <tr>\n",
       "      <th>835</th>\n",
       "      <td>04/02/2021</td>\n",
       "      <td>1900 UTC</td>\n",
       "      <td>39.7</td>\n",
       "      <td>37.5</td>\n",
       "      <td>VILA MILITAR</td>\n",
       "    </tr>\n",
       "    <tr>\n",
       "      <th>687</th>\n",
       "      <td>29/01/2021</td>\n",
       "      <td>1500 UTC</td>\n",
       "      <td>39.6</td>\n",
       "      <td>37.4</td>\n",
       "      <td>MARAMBAIA</td>\n",
       "    </tr>\n",
       "    <tr>\n",
       "      <th>834</th>\n",
       "      <td>04/02/2021</td>\n",
       "      <td>1800 UTC</td>\n",
       "      <td>39.6</td>\n",
       "      <td>37.4</td>\n",
       "      <td>VILA MILITAR</td>\n",
       "    </tr>\n",
       "    <tr>\n",
       "      <th>833</th>\n",
       "      <td>04/02/2021</td>\n",
       "      <td>1700 UTC</td>\n",
       "      <td>39.5</td>\n",
       "      <td>30.2</td>\n",
       "      <td>MARAMBAIA</td>\n",
       "    </tr>\n",
       "    <tr>\n",
       "      <th>689</th>\n",
       "      <td>29/01/2021</td>\n",
       "      <td>1700 UTC</td>\n",
       "      <td>39.4</td>\n",
       "      <td>36.8</td>\n",
       "      <td>VILA MILITAR</td>\n",
       "    </tr>\n",
       "  </tbody>\n",
       "</table>\n",
       "</div>"
      ],
      "text/plain": [
       "           Data  Hora UTC  TEMPERATURA MAXIMA  TEMPERATURA MINIMA  \\\n",
       "714  30/01/2021  1800 UTC                40.2                37.0   \n",
       "713  30/01/2021  1700 UTC                40.0                37.6   \n",
       "688  29/01/2021  1600 UTC                40.0                32.7   \n",
       "833  04/02/2021  1700 UTC                39.8                37.9   \n",
       "712  30/01/2021  1600 UTC                39.7                32.5   \n",
       "835  04/02/2021  1900 UTC                39.7                37.5   \n",
       "687  29/01/2021  1500 UTC                39.6                37.4   \n",
       "834  04/02/2021  1800 UTC                39.6                37.4   \n",
       "833  04/02/2021  1700 UTC                39.5                30.2   \n",
       "689  29/01/2021  1700 UTC                39.4                36.8   \n",
       "\n",
       "          ESTACAO  \n",
       "714  VILA MILITAR  \n",
       "713  VILA MILITAR  \n",
       "688     MARAMBAIA  \n",
       "833   JACAREPAGUA  \n",
       "712     MARAMBAIA  \n",
       "835  VILA MILITAR  \n",
       "687     MARAMBAIA  \n",
       "834  VILA MILITAR  \n",
       "833     MARAMBAIA  \n",
       "689  VILA MILITAR  "
      ]
     },
     "execution_count": 18,
     "metadata": {},
     "output_type": "execute_result"
    }
   ],
   "source": [
    "df_filtered.sort_values('TEMPERATURA MAXIMA', ascending=False).head(10)"
   ]
  },
  {
   "cell_type": "code",
   "execution_count": 19,
   "id": "a498f1f6",
   "metadata": {},
   "outputs": [],
   "source": [
    "df_filtered['Data'] = pd.to_datetime(df_filtered['Data'], format='%d/%m/%Y')"
   ]
  },
  {
   "cell_type": "markdown",
   "id": "ccca0872",
   "metadata": {},
   "source": [
    "#### MÉDIA DE TEMPERATURA MÁXIMA POR MÊS"
   ]
  },
  {
   "cell_type": "code",
   "execution_count": 20,
   "id": "95525cc3",
   "metadata": {},
   "outputs": [
    {
     "data": {
      "text/plain": [
       "Data\n",
       "1    27.641062\n",
       "2    26.113207\n",
       "3    26.872950\n",
       "4    23.954167\n",
       "5    22.533199\n",
       "6    21.501259\n",
       "7    19.841847\n",
       "8    21.811959\n",
       "Name: TEMPERATURA MAXIMA, dtype: float64"
      ]
     },
     "execution_count": 20,
     "metadata": {},
     "output_type": "execute_result"
    }
   ],
   "source": [
    "df_filtered.groupby(df_filtered['Data'].dt.month)['TEMPERATURA MAXIMA'].mean()"
   ]
  },
  {
   "cell_type": "code",
   "execution_count": 21,
   "id": "9e6d23dd",
   "metadata": {
    "scrolled": true
   },
   "outputs": [
    {
     "data": {
      "text/plain": [
       "<AxesSubplot:xlabel='Data'>"
      ]
     },
     "execution_count": 21,
     "metadata": {},
     "output_type": "execute_result"
    },
    {
     "data": {
      "image/png": "[encoded data removed]",
      "text/plain": [
       "<Figure size 432x288 with 1 Axes>"
      ]
     },
     "metadata": {
      "needs_background": "light"
     },
     "output_type": "display_data"
    }
   ],
   "source": [
    "df_filtered.groupby(df_filtered['Data'].dt.month)['TEMPERATURA MAXIMA'].mean().plot.bar()"
   ]
  },
  {
   "cell_type": "code",
   "execution_count": 22,
   "id": "ee3a6c08",
   "metadata": {},
   "outputs": [
    {
     "data": {
      "text/plain": [
       "Text(0, 0.5, 'Estação')"
      ]
     },
     "execution_count": 22,
     "metadata": {},
     "output_type": "execute_result"
    },
    {
     "data": {
      "image/png": "[encoded data removed]",
      "text/plain": [
       "<Figure size 432x288 with 1 Axes>"
      ]
     },
     "metadata": {
      "needs_background": "light"
     },
     "output_type": "display_data"
    }
   ],
   "source": [
    "import matplotlib.pyplot as plt\n",
    "df_filtered.groupby('ESTACAO')['TEMPERATURA MINIMA'].mean().plot.barh(title='MÉDIA DE TEMPERATURA MÍNIMA POR ESTAÇÕES')\n",
    "plt.xlabel('Média')\n",
    "plt.ylabel('Estação')"
   ]
  },
  {
   "cell_type": "code",
   "execution_count": null,
   "id": "c3117b12",
   "metadata": {},
   "outputs": [],
   "source": []
  }
 ],
 "metadata": {
  "kernelspec": {
   "display_name": "Python 3 (ipykernel)",
   "language": "python",
   "name": "python3"
  },
  "language_info": {
   "codemirror_mode": {
    "name": "ipython",
    "version": 3
   },
   "file_extension": ".py",
   "mimetype": "text/x-python",
   "name": "python",
   "nbconvert_exporter": "python",
   "pygments_lexer": "ipython3",
   "version": "3.9.6"
  }
 },
 "nbformat": 4,
 "nbformat_minor": 5
}
