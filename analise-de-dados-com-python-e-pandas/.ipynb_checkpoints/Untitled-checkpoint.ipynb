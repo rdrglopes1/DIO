{
 "cells": [
  {
   "cell_type": "code",
   "execution_count": 1,
   "id": "9529d3b6",
   "metadata": {},
   "outputs": [],
   "source": [
    "import pandas as pd\n",
    "import glob"
   ]
  },
  {
   "cell_type": "code",
   "execution_count": 2,
   "id": "adaae739",
   "metadata": {},
   "outputs": [],
   "source": [
    "filename = glob.glob('2021 - RJ/INMET_SE_RJ_*_01-01-2021_A_31-08-2021.CSV')"
   ]
  },
  {
   "cell_type": "code",
   "execution_count": 3,
   "id": "276c39cb",
   "metadata": {},
   "outputs": [],
   "source": [
    "merged_df = pd.DataFrame()"
   ]
  },
  {
   "cell_type": "code",
   "execution_count": 4,
   "id": "c8ce0834",
   "metadata": {},
   "outputs": [],
   "source": [
    "for i in filename:\n",
    "    saidaStr = str(i)\n",
    "    lsaida = i.split('-')\n",
    "    snm = lsaida[2].strip()\n",
    "    nm = snm[:-3]\n",
    "    \n",
    "    df = pd.read_csv(i, sep=';', decimal=',', thousands='.')\n",
    "    df['ESTACAO'] = nm\n",
    "    merged_df = merged_df.append(df)"
   ]
  },
  {
   "cell_type": "code",
   "execution_count": 5,
   "id": "252d495f",
   "metadata": {},
   "outputs": [],
   "source": [
    "df_filtered = merged_df[['Data', 'Hora UTC', 'TEMPERATURA M?XIMA NA HORA ANT. (AUT) (?C)', 'TEMPERATURA M?NIMA NA HORA ANT. (AUT) (?C)', 'ESTACAO']]"
   ]
  },
  {
   "cell_type": "code",
   "execution_count": 6,
   "id": "5f93b8a7",
   "metadata": {},
   "outputs": [],
   "source": [
    "df_filtered = df_filtered.rename(columns={'TEMPERATURA M?XIMA NA HORA ANT. (AUT) (?C)':'TEMPERATURA MAXIMA', 'TEMPERATURA M?NIMA NA HORA ANT. (AUT) (?C)':'TEMPERATURA MINIMA'})"
   ]
  },
  {
   "cell_type": "code",
   "execution_count": 10,
   "id": "e96da3b2",
   "metadata": {},
   "outputs": [
    {
     "data": {
      "text/html": [
       "<div>\n",
       "<style scoped>\n",
       "    .dataframe tbody tr th:only-of-type {\n",
       "        vertical-align: middle;\n",
       "    }\n",
       "\n",
       "    .dataframe tbody tr th {\n",
       "        vertical-align: top;\n",
       "    }\n",
       "\n",
       "    .dataframe thead th {\n",
       "        text-align: right;\n",
       "    }\n",
       "</style>\n",
       "<table border=\"1\" class=\"dataframe\">\n",
       "  <thead>\n",
       "    <tr style=\"text-align: right;\">\n",
       "      <th></th>\n",
       "      <th>Data</th>\n",
       "      <th>Hora UTC</th>\n",
       "      <th>TEMPERATURA MAXIMA</th>\n",
       "      <th>TEMPERATURA MINIMA</th>\n",
       "      <th>ESTACAO</th>\n",
       "    </tr>\n",
       "  </thead>\n",
       "  <tbody>\n",
       "    <tr>\n",
       "      <th>0</th>\n",
       "      <td>01/01/2021</td>\n",
       "      <td>0000 UTC</td>\n",
       "      <td>24.9</td>\n",
       "      <td>24.5</td>\n",
       "      <td>MARAMBAIA</td>\n",
       "    </tr>\n",
       "    <tr>\n",
       "      <th>1</th>\n",
       "      <td>01/01/2021</td>\n",
       "      <td>0100 UTC</td>\n",
       "      <td>25.0</td>\n",
       "      <td>24.4</td>\n",
       "      <td>MARAMBAIA</td>\n",
       "    </tr>\n",
       "    <tr>\n",
       "      <th>2</th>\n",
       "      <td>01/01/2021</td>\n",
       "      <td>0200 UTC</td>\n",
       "      <td>24.4</td>\n",
       "      <td>23.8</td>\n",
       "      <td>MARAMBAIA</td>\n",
       "    </tr>\n",
       "    <tr>\n",
       "      <th>3</th>\n",
       "      <td>01/01/2021</td>\n",
       "      <td>0300 UTC</td>\n",
       "      <td>24.0</td>\n",
       "      <td>23.4</td>\n",
       "      <td>MARAMBAIA</td>\n",
       "    </tr>\n",
       "    <tr>\n",
       "      <th>4</th>\n",
       "      <td>01/01/2021</td>\n",
       "      <td>0400 UTC</td>\n",
       "      <td>23.4</td>\n",
       "      <td>22.9</td>\n",
       "      <td>MARAMBAIA</td>\n",
       "    </tr>\n",
       "  </tbody>\n",
       "</table>\n",
       "</div>"
      ],
      "text/plain": [
       "         Data  Hora UTC  TEMPERATURA MAXIMA  TEMPERATURA MINIMA    ESTACAO\n",
       "0  01/01/2021  0000 UTC                24.9                24.5  MARAMBAIA\n",
       "1  01/01/2021  0100 UTC                25.0                24.4  MARAMBAIA\n",
       "2  01/01/2021  0200 UTC                24.4                23.8  MARAMBAIA\n",
       "3  01/01/2021  0300 UTC                24.0                23.4  MARAMBAIA\n",
       "4  01/01/2021  0400 UTC                23.4                22.9  MARAMBAIA"
      ]
     },
     "execution_count": 10,
     "metadata": {},
     "output_type": "execute_result"
    }
   ],
   "source": [
    "df_filtered.head()"
   ]
  },
  {
   "cell_type": "code",
   "execution_count": 11,
   "id": "13f32706",
   "metadata": {},
   "outputs": [
    {
     "data": {
      "text/html": [
       "<div>\n",
       "<style scoped>\n",
       "    .dataframe tbody tr th:only-of-type {\n",
       "        vertical-align: middle;\n",
       "    }\n",
       "\n",
       "    .dataframe tbody tr th {\n",
       "        vertical-align: top;\n",
       "    }\n",
       "\n",
       "    .dataframe thead th {\n",
       "        text-align: right;\n",
       "    }\n",
       "</style>\n",
       "<table border=\"1\" class=\"dataframe\">\n",
       "  <thead>\n",
       "    <tr style=\"text-align: right;\">\n",
       "      <th></th>\n",
       "      <th>Data</th>\n",
       "      <th>Hora UTC</th>\n",
       "      <th>TEMPERATURA MAXIMA</th>\n",
       "      <th>TEMPERATURA MINIMA</th>\n",
       "      <th>ESTACAO</th>\n",
       "    </tr>\n",
       "  </thead>\n",
       "  <tbody>\n",
       "    <tr>\n",
       "      <th>5827</th>\n",
       "      <td>31/08/2021</td>\n",
       "      <td>1900 UTC</td>\n",
       "      <td>20.2</td>\n",
       "      <td>19.6</td>\n",
       "      <td>FORTE DE COPACABANA</td>\n",
       "    </tr>\n",
       "    <tr>\n",
       "      <th>5828</th>\n",
       "      <td>31/08/2021</td>\n",
       "      <td>2000 UTC</td>\n",
       "      <td>20.2</td>\n",
       "      <td>19.8</td>\n",
       "      <td>FORTE DE COPACABANA</td>\n",
       "    </tr>\n",
       "    <tr>\n",
       "      <th>5829</th>\n",
       "      <td>31/08/2021</td>\n",
       "      <td>2100 UTC</td>\n",
       "      <td>20.4</td>\n",
       "      <td>20.0</td>\n",
       "      <td>FORTE DE COPACABANA</td>\n",
       "    </tr>\n",
       "    <tr>\n",
       "      <th>5830</th>\n",
       "      <td>31/08/2021</td>\n",
       "      <td>2200 UTC</td>\n",
       "      <td>20.2</td>\n",
       "      <td>19.7</td>\n",
       "      <td>FORTE DE COPACABANA</td>\n",
       "    </tr>\n",
       "    <tr>\n",
       "      <th>5831</th>\n",
       "      <td>31/08/2021</td>\n",
       "      <td>2300 UTC</td>\n",
       "      <td>20.1</td>\n",
       "      <td>19.0</td>\n",
       "      <td>FORTE DE COPACABANA</td>\n",
       "    </tr>\n",
       "  </tbody>\n",
       "</table>\n",
       "</div>"
      ],
      "text/plain": [
       "            Data  Hora UTC  TEMPERATURA MAXIMA  TEMPERATURA MINIMA  \\\n",
       "5827  31/08/2021  1900 UTC                20.2                19.6   \n",
       "5828  31/08/2021  2000 UTC                20.2                19.8   \n",
       "5829  31/08/2021  2100 UTC                20.4                20.0   \n",
       "5830  31/08/2021  2200 UTC                20.2                19.7   \n",
       "5831  31/08/2021  2300 UTC                20.1                19.0   \n",
       "\n",
       "                  ESTACAO  \n",
       "5827  FORTE DE COPACABANA  \n",
       "5828  FORTE DE COPACABANA  \n",
       "5829  FORTE DE COPACABANA  \n",
       "5830  FORTE DE COPACABANA  \n",
       "5831  FORTE DE COPACABANA  "
      ]
     },
     "execution_count": 11,
     "metadata": {},
     "output_type": "execute_result"
    }
   ],
   "source": [
    "df_filtered.tail()"
   ]
  },
  {
   "cell_type": "code",
   "execution_count": 7,
   "id": "07e6090e",
   "metadata": {},
   "outputs": [
    {
     "data": {
      "text/plain": [
       "Data                   object\n",
       "Hora UTC               object\n",
       "TEMPERATURA MAXIMA    float64\n",
       "TEMPERATURA MINIMA    float64\n",
       "ESTACAO                object\n",
       "dtype: object"
      ]
     },
     "execution_count": 7,
     "metadata": {},
     "output_type": "execute_result"
    }
   ],
   "source": [
    "df_filtered.dtypes"
   ]
  },
  {
   "cell_type": "code",
   "execution_count": 8,
   "id": "11f5d979",
   "metadata": {},
   "outputs": [
    {
     "data": {
      "text/plain": [
       "Data                   0\n",
       "Hora UTC               0\n",
       "TEMPERATURA MAXIMA    37\n",
       "TEMPERATURA MINIMA    37\n",
       "ESTACAO                0\n",
       "dtype: int64"
      ]
     },
     "execution_count": 8,
     "metadata": {},
     "output_type": "execute_result"
    }
   ],
   "source": [
    "df_filtered.isnull().sum()"
   ]
  },
  {
   "cell_type": "code",
   "execution_count": 9,
   "id": "45a55579",
   "metadata": {},
   "outputs": [],
   "source": [
    "df_filtered['TEMPERATURA MAXIMA'].fillna(df_filtered['TEMPERATURA MAXIMA'].mean(), inplace=True)"
   ]
  },
  {
   "cell_type": "code",
   "execution_count": 14,
   "id": "3d57962b",
   "metadata": {},
   "outputs": [],
   "source": [
    "df_filtered['TEMPERATURA MINIMA'].fillna(df_filtered['TEMPERATURA MINIMA'].mean(), inplace=True)"
   ]
  },
  {
   "cell_type": "code",
   "execution_count": 22,
   "id": "5d95f560",
   "metadata": {
    "scrolled": false
   },
   "outputs": [
    {
     "data": {
      "text/html": [
       "<div>\n",
       "<style scoped>\n",
       "    .dataframe tbody tr th:only-of-type {\n",
       "        vertical-align: middle;\n",
       "    }\n",
       "\n",
       "    .dataframe tbody tr th {\n",
       "        vertical-align: top;\n",
       "    }\n",
       "\n",
       "    .dataframe thead th {\n",
       "        text-align: right;\n",
       "    }\n",
       "</style>\n",
       "<table border=\"1\" class=\"dataframe\">\n",
       "  <thead>\n",
       "    <tr style=\"text-align: right;\">\n",
       "      <th></th>\n",
       "      <th>Data</th>\n",
       "      <th>Hora UTC</th>\n",
       "      <th>TEMPERATURA MAXIMA</th>\n",
       "      <th>TEMPERATURA MINIMA</th>\n",
       "      <th>ESTACAO</th>\n",
       "    </tr>\n",
       "  </thead>\n",
       "  <tbody>\n",
       "    <tr>\n",
       "      <th>4017</th>\n",
       "      <td>17/06/2021</td>\n",
       "      <td>0900 UTC</td>\n",
       "      <td>19.3</td>\n",
       "      <td>18.5</td>\n",
       "      <td>MARAMBAIA</td>\n",
       "    </tr>\n",
       "    <tr>\n",
       "      <th>3063</th>\n",
       "      <td>08/05/2021</td>\n",
       "      <td>1500 UTC</td>\n",
       "      <td>21.6</td>\n",
       "      <td>20.4</td>\n",
       "      <td>VILA MILITAR</td>\n",
       "    </tr>\n",
       "    <tr>\n",
       "      <th>5290</th>\n",
       "      <td>09/08/2021</td>\n",
       "      <td>1000 UTC</td>\n",
       "      <td>19.5</td>\n",
       "      <td>19.1</td>\n",
       "      <td>FORTE DE COPACABANA</td>\n",
       "    </tr>\n",
       "    <tr>\n",
       "      <th>4241</th>\n",
       "      <td>26/06/2021</td>\n",
       "      <td>1700 UTC</td>\n",
       "      <td>25.0</td>\n",
       "      <td>23.2</td>\n",
       "      <td>MARAMBAIA</td>\n",
       "    </tr>\n",
       "    <tr>\n",
       "      <th>2740</th>\n",
       "      <td>25/04/2021</td>\n",
       "      <td>0400 UTC</td>\n",
       "      <td>20.6</td>\n",
       "      <td>20.2</td>\n",
       "      <td>MARAMBAIA</td>\n",
       "    </tr>\n",
       "    <tr>\n",
       "      <th>5010</th>\n",
       "      <td>28/07/2021</td>\n",
       "      <td>1800 UTC</td>\n",
       "      <td>17.6</td>\n",
       "      <td>17.0</td>\n",
       "      <td>FORTE DE COPACABANA</td>\n",
       "    </tr>\n",
       "    <tr>\n",
       "      <th>5115</th>\n",
       "      <td>02/08/2021</td>\n",
       "      <td>0300 UTC</td>\n",
       "      <td>18.0</td>\n",
       "      <td>17.7</td>\n",
       "      <td>FORTE DE COPACABANA</td>\n",
       "    </tr>\n",
       "    <tr>\n",
       "      <th>5233</th>\n",
       "      <td>07/08/2021</td>\n",
       "      <td>0100 UTC</td>\n",
       "      <td>16.8</td>\n",
       "      <td>16.4</td>\n",
       "      <td>JACAREPAGUA</td>\n",
       "    </tr>\n",
       "    <tr>\n",
       "      <th>4956</th>\n",
       "      <td>26/07/2021</td>\n",
       "      <td>1200 UTC</td>\n",
       "      <td>23.2</td>\n",
       "      <td>19.8</td>\n",
       "      <td>VILA MILITAR</td>\n",
       "    </tr>\n",
       "    <tr>\n",
       "      <th>5032</th>\n",
       "      <td>29/07/2021</td>\n",
       "      <td>1600 UTC</td>\n",
       "      <td>17.9</td>\n",
       "      <td>16.7</td>\n",
       "      <td>MARAMBAIA</td>\n",
       "    </tr>\n",
       "  </tbody>\n",
       "</table>\n",
       "</div>"
      ],
      "text/plain": [
       "            Data  Hora UTC  TEMPERATURA MAXIMA  TEMPERATURA MINIMA  \\\n",
       "4017  17/06/2021  0900 UTC                19.3                18.5   \n",
       "3063  08/05/2021  1500 UTC                21.6                20.4   \n",
       "5290  09/08/2021  1000 UTC                19.5                19.1   \n",
       "4241  26/06/2021  1700 UTC                25.0                23.2   \n",
       "2740  25/04/2021  0400 UTC                20.6                20.2   \n",
       "5010  28/07/2021  1800 UTC                17.6                17.0   \n",
       "5115  02/08/2021  0300 UTC                18.0                17.7   \n",
       "5233  07/08/2021  0100 UTC                16.8                16.4   \n",
       "4956  26/07/2021  1200 UTC                23.2                19.8   \n",
       "5032  29/07/2021  1600 UTC                17.9                16.7   \n",
       "\n",
       "                  ESTACAO  \n",
       "4017            MARAMBAIA  \n",
       "3063         VILA MILITAR  \n",
       "5290  FORTE DE COPACABANA  \n",
       "4241            MARAMBAIA  \n",
       "2740            MARAMBAIA  \n",
       "5010  FORTE DE COPACABANA  \n",
       "5115  FORTE DE COPACABANA  \n",
       "5233          JACAREPAGUA  \n",
       "4956         VILA MILITAR  \n",
       "5032            MARAMBAIA  "
      ]
     },
     "execution_count": 22,
     "metadata": {},
     "output_type": "execute_result"
    }
   ],
   "source": [
    "df_filtered.sample(10)"
   ]
  },
  {
   "cell_type": "markdown",
   "id": "7bf03773",
   "metadata": {},
   "source": [
    "#### MAXIMA TEMPERATURA REGISTRADA NO ANO"
   ]
  },
  {
   "cell_type": "code",
   "execution_count": 20,
   "id": "d8542cd6",
   "metadata": {},
   "outputs": [
    {
     "data": {
      "text/plain": [
       "40.2"
      ]
     },
     "execution_count": 20,
     "metadata": {},
     "output_type": "execute_result"
    }
   ],
   "source": [
    "df_filtered['TEMPERATURA MAXIMA'].max()"
   ]
  },
  {
   "cell_type": "markdown",
   "id": "c4dc0b64",
   "metadata": {},
   "source": [
    "#### MÍNIMA TEMPERATURA REGISTRADA NO ANO"
   ]
  },
  {
   "cell_type": "code",
   "execution_count": 21,
   "id": "20f897a2",
   "metadata": {},
   "outputs": [
    {
     "data": {
      "text/plain": [
       "8.4"
      ]
     },
     "execution_count": 21,
     "metadata": {},
     "output_type": "execute_result"
    }
   ],
   "source": [
    "df_filtered['TEMPERATURA MINIMA'].min()"
   ]
  },
  {
   "cell_type": "markdown",
   "id": "581f1f98",
   "metadata": {},
   "source": [
    "#### MÉDIA DE TEMPERATURA MAXIMA POR ESTAÇÕES"
   ]
  },
  {
   "cell_type": "code",
   "execution_count": 23,
   "id": "8fd2d958",
   "metadata": {
    "scrolled": false
   },
   "outputs": [
    {
     "data": {
      "text/plain": [
       "ESTACAO\n",
       "FORTE DE COPACABANA    24.007214\n",
       "JACAREPAGUA            23.182094\n",
       "MARAMBAIA              23.749648\n",
       "VILA MILITAR           24.115597\n",
       "Name: TEMPERATURA MAXIMA, dtype: float64"
      ]
     },
     "execution_count": 23,
     "metadata": {},
     "output_type": "execute_result"
    }
   ],
   "source": [
    "df_filtered.groupby('ESTACAO')['TEMPERATURA MAXIMA'].mean()"
   ]
  },
  {
   "cell_type": "markdown",
   "id": "4a5e1ddb",
   "metadata": {},
   "source": [
    "#### MÉDIA DE TEMPERATURA MÍNIMA POR ESTAÇÕES"
   ]
  },
  {
   "cell_type": "code",
   "execution_count": 24,
   "id": "34ab2d04",
   "metadata": {},
   "outputs": [
    {
     "data": {
      "text/plain": [
       "ESTACAO\n",
       "FORTE DE COPACABANA    22.997805\n",
       "JACAREPAGUA            21.909162\n",
       "MARAMBAIA              22.574398\n",
       "VILA MILITAR           22.798726\n",
       "Name: TEMPERATURA MINIMA, dtype: float64"
      ]
     },
     "execution_count": 24,
     "metadata": {},
     "output_type": "execute_result"
    }
   ],
   "source": [
    "df_filtered.groupby('ESTACAO')['TEMPERATURA MINIMA'].mean()"
   ]
  },
  {
   "cell_type": "code",
   "execution_count": 25,
   "id": "4016be66",
   "metadata": {},
   "outputs": [
    {
     "data": {
      "text/html": [
       "<div>\n",
       "<style scoped>\n",
       "    .dataframe tbody tr th:only-of-type {\n",
       "        vertical-align: middle;\n",
       "    }\n",
       "\n",
       "    .dataframe tbody tr th {\n",
       "        vertical-align: top;\n",
       "    }\n",
       "\n",
       "    .dataframe thead th {\n",
       "        text-align: right;\n",
       "    }\n",
       "</style>\n",
       "<table border=\"1\" class=\"dataframe\">\n",
       "  <thead>\n",
       "    <tr style=\"text-align: right;\">\n",
       "      <th></th>\n",
       "      <th>Data</th>\n",
       "      <th>Hora UTC</th>\n",
       "      <th>TEMPERATURA MAXIMA</th>\n",
       "      <th>TEMPERATURA MINIMA</th>\n",
       "      <th>ESTACAO</th>\n",
       "    </tr>\n",
       "  </thead>\n",
       "  <tbody>\n",
       "    <tr>\n",
       "      <th>714</th>\n",
       "      <td>30/01/2021</td>\n",
       "      <td>1800 UTC</td>\n",
       "      <td>40.2</td>\n",
       "      <td>37.0</td>\n",
       "      <td>VILA MILITAR</td>\n",
       "    </tr>\n",
       "    <tr>\n",
       "      <th>713</th>\n",
       "      <td>30/01/2021</td>\n",
       "      <td>1700 UTC</td>\n",
       "      <td>40.0</td>\n",
       "      <td>37.6</td>\n",
       "      <td>VILA MILITAR</td>\n",
       "    </tr>\n",
       "    <tr>\n",
       "      <th>688</th>\n",
       "      <td>29/01/2021</td>\n",
       "      <td>1600 UTC</td>\n",
       "      <td>40.0</td>\n",
       "      <td>32.7</td>\n",
       "      <td>MARAMBAIA</td>\n",
       "    </tr>\n",
       "    <tr>\n",
       "      <th>833</th>\n",
       "      <td>04/02/2021</td>\n",
       "      <td>1700 UTC</td>\n",
       "      <td>39.8</td>\n",
       "      <td>37.9</td>\n",
       "      <td>JACAREPAGUA</td>\n",
       "    </tr>\n",
       "    <tr>\n",
       "      <th>712</th>\n",
       "      <td>30/01/2021</td>\n",
       "      <td>1600 UTC</td>\n",
       "      <td>39.7</td>\n",
       "      <td>32.5</td>\n",
       "      <td>MARAMBAIA</td>\n",
       "    </tr>\n",
       "    <tr>\n",
       "      <th>835</th>\n",
       "      <td>04/02/2021</td>\n",
       "      <td>1900 UTC</td>\n",
       "      <td>39.7</td>\n",
       "      <td>37.5</td>\n",
       "      <td>VILA MILITAR</td>\n",
       "    </tr>\n",
       "    <tr>\n",
       "      <th>687</th>\n",
       "      <td>29/01/2021</td>\n",
       "      <td>1500 UTC</td>\n",
       "      <td>39.6</td>\n",
       "      <td>37.4</td>\n",
       "      <td>MARAMBAIA</td>\n",
       "    </tr>\n",
       "    <tr>\n",
       "      <th>834</th>\n",
       "      <td>04/02/2021</td>\n",
       "      <td>1800 UTC</td>\n",
       "      <td>39.6</td>\n",
       "      <td>37.4</td>\n",
       "      <td>VILA MILITAR</td>\n",
       "    </tr>\n",
       "    <tr>\n",
       "      <th>833</th>\n",
       "      <td>04/02/2021</td>\n",
       "      <td>1700 UTC</td>\n",
       "      <td>39.5</td>\n",
       "      <td>30.2</td>\n",
       "      <td>MARAMBAIA</td>\n",
       "    </tr>\n",
       "    <tr>\n",
       "      <th>689</th>\n",
       "      <td>29/01/2021</td>\n",
       "      <td>1700 UTC</td>\n",
       "      <td>39.4</td>\n",
       "      <td>36.8</td>\n",
       "      <td>VILA MILITAR</td>\n",
       "    </tr>\n",
       "  </tbody>\n",
       "</table>\n",
       "</div>"
      ],
      "text/plain": [
       "           Data  Hora UTC  TEMPERATURA MAXIMA  TEMPERATURA MINIMA  \\\n",
       "714  30/01/2021  1800 UTC                40.2                37.0   \n",
       "713  30/01/2021  1700 UTC                40.0                37.6   \n",
       "688  29/01/2021  1600 UTC                40.0                32.7   \n",
       "833  04/02/2021  1700 UTC                39.8                37.9   \n",
       "712  30/01/2021  1600 UTC                39.7                32.5   \n",
       "835  04/02/2021  1900 UTC                39.7                37.5   \n",
       "687  29/01/2021  1500 UTC                39.6                37.4   \n",
       "834  04/02/2021  1800 UTC                39.6                37.4   \n",
       "833  04/02/2021  1700 UTC                39.5                30.2   \n",
       "689  29/01/2021  1700 UTC                39.4                36.8   \n",
       "\n",
       "          ESTACAO  \n",
       "714  VILA MILITAR  \n",
       "713  VILA MILITAR  \n",
       "688     MARAMBAIA  \n",
       "833   JACAREPAGUA  \n",
       "712     MARAMBAIA  \n",
       "835  VILA MILITAR  \n",
       "687     MARAMBAIA  \n",
       "834  VILA MILITAR  \n",
       "833     MARAMBAIA  \n",
       "689  VILA MILITAR  "
      ]
     },
     "execution_count": 25,
     "metadata": {},
     "output_type": "execute_result"
    }
   ],
   "source": [
    "df_filtered.sort_values('TEMPERATURA MAXIMA', ascending=False).head(10)"
   ]
  },
  {
   "cell_type": "markdown",
   "id": "d4ac310b",
   "metadata": {},
   "source": [
    "#### HORÁRIO COM MAIOR MÉDIA DE TEMPERATURA"
   ]
  },
  {
   "cell_type": "code",
   "execution_count": null,
   "id": "01ec019d",
   "metadata": {},
   "outputs": [],
   "source": [
    "df_filtered"
   ]
  },
  {
   "cell_type": "markdown",
   "id": "e1ec2ea0",
   "metadata": {},
   "source": [
    "#### MÊS COM MAIOR MÉDIA DE TEMPERATURA"
   ]
  },
  {
   "cell_type": "code",
   "execution_count": null,
   "id": "ff887c75",
   "metadata": {},
   "outputs": [],
   "source": [
    "df_filtered"
   ]
  },
  {
   "cell_type": "code",
   "execution_count": null,
   "id": "8c5c33c5",
   "metadata": {},
   "outputs": [],
   "source": []
  }
 ],
 "metadata": {
  "kernelspec": {
   "display_name": "Python 3 (ipykernel)",
   "language": "python",
   "name": "python3"
  },
  "language_info": {
   "codemirror_mode": {
    "name": "ipython",
    "version": 3
   },
   "file_extension": ".py",
   "mimetype": "text/x-python",
   "name": "python",
   "nbconvert_exporter": "python",
   "pygments_lexer": "ipython3",
   "version": "3.9.6"
  }
 },
 "nbformat": 4,
 "nbformat_minor": 5
}
